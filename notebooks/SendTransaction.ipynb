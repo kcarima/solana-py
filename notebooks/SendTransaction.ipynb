{
 "cells": [
  {
   "cell_type": "code",
   "execution_count": 37,
   "metadata": {},
   "outputs": [
    {
     "data": {
      "text/plain": [
       "True"
      ]
     },
     "execution_count": 37,
     "metadata": {},
     "output_type": "execute_result"
    }
   ],
   "source": [
    "from solana.rpc.api import Client\n",
    "\n",
    "solana_client = Client()\n",
    "solana_client.is_connected()"
   ]
  },
  {
   "cell_type": "code",
   "execution_count": 38,
   "metadata": {},
   "outputs": [
    {
     "data": {
      "text/plain": [
       "{'jsonrpc': '2.0',\n",
       " 'result': '2MZbjgUiJbcZNTMGKmhdK31Quf33Ur4NhvyfiCSVthm1DoWs1P4tqmYVjsEZf8vqehbYdZDkZYjCTjHJNzTaxcoC',\n",
       " 'id': 1}"
      ]
     },
     "execution_count": 38,
     "metadata": {},
     "output_type": "execute_result"
    }
   ],
   "source": [
    "from solana.account import Account\n",
    "\n",
    "acc1 = Account(bytes([8] * 32))\n",
    "tx = solana_client.request_airdrop(acc1.public_key(), 1000000)\n",
    "tx"
   ]
  },
  {
   "cell_type": "code",
   "execution_count": 40,
   "metadata": {},
   "outputs": [
    {
     "data": {
      "text/plain": [
       "{'jsonrpc': '2.0',\n",
       " 'result': {'meta': {'err': None,\n",
       "   'fee': 5000,\n",
       "   'postBalances': [499999999997995000, 1990000, 1],\n",
       "   'preBalances': [499999999999000000, 990000, 1],\n",
       "   'status': {'Ok': None}},\n",
       "  'slot': 1187,\n",
       "  'transaction': {'message': {'accountKeys': ['9e4XAH2ULYhUjuQYVoHUy5SPFLeNNPN9jn8ASHkn1EfH',\n",
       "     '2KW2XRd9kwqet15Aha2oK3tYvd3nWbTFH1MBiRAv1BE1',\n",
       "     '11111111111111111111111111111111'],\n",
       "    'header': {'numReadonlySignedAccounts': 0,\n",
       "     'numReadonlyUnsignedAccounts': 1,\n",
       "     'numRequiredSignatures': 1},\n",
       "    'instructions': [{'accounts': [0, 1],\n",
       "      'data': '3Bxs4Bc3VYuGVB19',\n",
       "      'programIdIndex': 2}],\n",
       "    'recentBlockhash': 'G7EDUnToMVjWeZJzzQQg2Ft7NLns1jjR31s9TvRihn7R'},\n",
       "   'signatures': ['2MZbjgUiJbcZNTMGKmhdK31Quf33Ur4NhvyfiCSVthm1DoWs1P4tqmYVjsEZf8vqehbYdZDkZYjCTjHJNzTaxcoC']}},\n",
       " 'id': 3}"
      ]
     },
     "execution_count": 40,
     "metadata": {},
     "output_type": "execute_result"
    }
   ],
   "source": [
    "solana_client.get_confirmed_transaction(tx[\"result\"])"
   ]
  },
  {
   "cell_type": "code",
   "execution_count": 41,
   "metadata": {},
   "outputs": [
    {
     "name": "stdout",
     "output_type": "stream",
     "text": [
      "3KWwqjBVeAmFuQDaEpufMV3WQDQHjCfoqGGPNws4pZCXqiujZixs45UDwdZwCQYYB6XcxyZ41eqas5eyQ9zy7sBk\n",
      "{'jsonrpc': '2.0', 'result': {'meta': {'err': {'InstructionError': [0, {'Custom': 1}]}, 'fee': 10000, 'postBalances': [1980000, 0, 1, 1, 1688941440], 'preBalances': [1990000, 0, 1, 1, 1688941440], 'status': {'Err': {'InstructionError': [0, {'Custom': 1}]}}}, 'slot': 1223, 'transaction': {'message': {'accountKeys': ['2KW2XRd9kwqet15Aha2oK3tYvd3nWbTFH1MBiRAv1BE1', 'C3SS8s5vh3Kah4KCo8RLKCdTE4A1jGpfmzZn4zU5aNtk', 'SysvarRent111111111111111111111111111111111', '11111111111111111111111111111111', 'TokenkegQfeZyiNwAJbNbGKPFXCWuBvf9Ss623VQ5DA'], 'header': {'numReadonlySignedAccounts': 0, 'numReadonlyUnsignedAccounts': 3, 'numRequiredSignatures': 2}, 'instructions': [{'accounts': [0, 1], 'data': '11114YwnFtV2eSPMxWLjHjgVDHta5aa9xca2GQWJBXvxuz2EgTuVuiKgAXyZ2eznDHmFVz', 'programIdIndex': 3}, {'accounts': [1, 2], 'data': '13NGxExiTu8DCC5PSzxeKgZA1LvJxiZsywUpiuK2ZDh8VTCWH5gUHhCmPD71Gd3pNw9ds1U7MLVyQjYhyawXtbRDCEb', 'programIdIndex': 4}], 'recentBlockhash': '3b1WDN2yTdtwzWoxZc1LnwZJ6Zxab9yyLLrb7c32ePPf'}, 'signatures': ['3KWwqjBVeAmFuQDaEpufMV3WQDQHjCfoqGGPNws4pZCXqiujZixs45UDwdZwCQYYB6XcxyZ41eqas5eyQ9zy7sBk', '4JwaSrUVGmsKFXw8GCLq5JC6ht8St5s3Znwav7z1x4hXUKdAtKrzV1epoT2nWUZnFXJa1EoAKuQV24C7ygMkfhLy']}}, 'id': 7}\n"
     ]
    },
    {
     "data": {
      "text/plain": [
       "<spl.token.client.Token at 0x113319160>"
      ]
     },
     "execution_count": 41,
     "metadata": {},
     "output_type": "execute_result"
    }
   ],
   "source": [
    "from spl.token.client import Token\n",
    "from spl.token.constants import TOKEN_PROGRAM_ID\n",
    "\n",
    "from solana.account import Account\n",
    "from solana.publickey import PublicKey\n",
    "\n",
    "decimals = 6\n",
    "mint_authority = Account().public_key()\n",
    "\n",
    "token = Token.create_mint(solana_client, acc1, acc1.public_key(), decimals, TOKEN_PROGRAM_ID)\n",
    "token"
   ]
  },
  {
   "cell_type": "code",
   "execution_count": 42,
   "metadata": {},
   "outputs": [
    {
     "data": {
      "text/plain": [
       "{'jsonrpc': '2.0',\n",
       " 'result': {'meta': {'err': {'InstructionError': [0, {'Custom': 1}]},\n",
       "   'fee': 10000,\n",
       "   'postBalances': [1980000, 0, 1, 1, 1688941440],\n",
       "   'preBalances': [1990000, 0, 1, 1, 1688941440],\n",
       "   'status': {'Err': {'InstructionError': [0, {'Custom': 1}]}}},\n",
       "  'slot': 1223,\n",
       "  'transaction': {'message': {'accountKeys': ['2KW2XRd9kwqet15Aha2oK3tYvd3nWbTFH1MBiRAv1BE1',\n",
       "     'C3SS8s5vh3Kah4KCo8RLKCdTE4A1jGpfmzZn4zU5aNtk',\n",
       "     'SysvarRent111111111111111111111111111111111',\n",
       "     '11111111111111111111111111111111',\n",
       "     'TokenkegQfeZyiNwAJbNbGKPFXCWuBvf9Ss623VQ5DA'],\n",
       "    'header': {'numReadonlySignedAccounts': 0,\n",
       "     'numReadonlyUnsignedAccounts': 3,\n",
       "     'numRequiredSignatures': 2},\n",
       "    'instructions': [{'accounts': [0, 1],\n",
       "      'data': '11114YwnFtV2eSPMxWLjHjgVDHta5aa9xca2GQWJBXvxuz2EgTuVuiKgAXyZ2eznDHmFVz',\n",
       "      'programIdIndex': 3},\n",
       "     {'accounts': [1, 2],\n",
       "      'data': '13NGxExiTu8DCC5PSzxeKgZA1LvJxiZsywUpiuK2ZDh8VTCWH5gUHhCmPD71Gd3pNw9ds1U7MLVyQjYhyawXtbRDCEb',\n",
       "      'programIdIndex': 4}],\n",
       "    'recentBlockhash': '3b1WDN2yTdtwzWoxZc1LnwZJ6Zxab9yyLLrb7c32ePPf'},\n",
       "   'signatures': ['3KWwqjBVeAmFuQDaEpufMV3WQDQHjCfoqGGPNws4pZCXqiujZixs45UDwdZwCQYYB6XcxyZ41eqas5eyQ9zy7sBk',\n",
       "    '4JwaSrUVGmsKFXw8GCLq5JC6ht8St5s3Znwav7z1x4hXUKdAtKrzV1epoT2nWUZnFXJa1EoAKuQV24C7ygMkfhLy']}},\n",
       " 'id': 8}"
      ]
     },
     "execution_count": 42,
     "metadata": {},
     "output_type": "execute_result"
    }
   ],
   "source": [
    "solana_client.get_confirmed_transaction(\"3KWwqjBVeAmFuQDaEpufMV3WQDQHjCfoqGGPNws4pZCXqiujZixs45UDwdZwCQYYB6XcxyZ41eqas5eyQ9zy7sBk\")"
   ]
  },
  {
   "cell_type": "code",
   "execution_count": 43,
   "metadata": {},
   "outputs": [
    {
     "data": {
      "text/plain": [
       "{'jsonrpc': '2.0',\n",
       " 'result': {'context': {'slot': 1256}, 'value': None},\n",
       " 'id': 9}"
      ]
     },
     "execution_count": 43,
     "metadata": {},
     "output_type": "execute_result"
    }
   ],
   "source": [
    "solana_client.get_account_info(token.pubkey)"
   ]
  },
  {
   "cell_type": "code",
   "execution_count": null,
   "metadata": {},
   "outputs": [],
   "source": [
    "recent_blockhash = solana_client.get_recent_blockhash()\n",
    "recent_blockhash"
   ]
  },
  {
   "cell_type": "code",
   "execution_count": null,
   "metadata": {},
   "outputs": [],
   "source": [
    "from base58 import b58encode\n",
    "from solana.blockhash import Blockhash\n",
    "from solana.system_program import TransferParams, transfer\n",
    "from solana.transaction import Transaction\n",
    "from solana.publickey import PublicKey\n",
    "\n",
    "acc2_pubkey = PublicKey(\"83astBRguLMdt2h5U1Tpdq5tjFoJ6noeGwaY3mDLVcri\")\n",
    "tx = Transaction().add(transfer(\n",
    "    TransferParams(from_pubkey=acc1.public_key(), to_pubkey=acc2_pubkey, lamports=1000000)))\n",
    "tx.recent_blockhash = Blockhash(recent_blockhash[\"result\"][\"value\"][\"blockhash\"])\n",
    "tx.sign(acc1)\n",
    "solana_client.simulate_transaction(tx)"
   ]
  },
  {
   "cell_type": "code",
   "execution_count": null,
   "metadata": {},
   "outputs": [],
   "source": [
    "tx_sig = solana_client.send_raw_transaction(tx)\n",
    "tx_sig"
   ]
  },
  {
   "cell_type": "code",
   "execution_count": null,
   "metadata": {},
   "outputs": [],
   "source": [
    "solana_client.get_confirmed_transaction(tx_sig[\"result\"])"
   ]
  },
  {
   "cell_type": "code",
   "execution_count": null,
   "metadata": {},
   "outputs": [],
   "source": [
    "solana_client.get_balance(acc2_pubkey)"
   ]
  },
  {
   "cell_type": "code",
   "execution_count": null,
   "metadata": {},
   "outputs": [],
   "source": [
    "tx = Transaction().add(transfer(\n",
    "    TransferParams(from_pubkey=acc1.public_key(), to_pubkey=Account(2).public_key(), lamports=1000000)))\n",
    "tx_sig = solana_client.send_transaction(tx, acc1)\n",
    "tx_sig"
   ]
  },
  {
   "cell_type": "code",
   "execution_count": null,
   "metadata": {},
   "outputs": [],
   "source": [
    "solana_client.get_confirmed_transaction(tx_sig[\"result\"])"
   ]
  },
  {
   "cell_type": "code",
   "execution_count": null,
   "metadata": {},
   "outputs": [],
   "source": []
  }
 ],
 "metadata": {
  "kernelspec": {
   "display_name": "Python 3",
   "language": "python",
   "name": "python3"
  },
  "language_info": {
   "codemirror_mode": {
    "name": "ipython",
    "version": 3
   },
   "file_extension": ".py",
   "mimetype": "text/x-python",
   "name": "python",
   "nbconvert_exporter": "python",
   "pygments_lexer": "ipython3",
   "version": "3.7.3"
  }
 },
 "nbformat": 4,
 "nbformat_minor": 4
}
