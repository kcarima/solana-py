{
 "cells": [
  {
   "cell_type": "code",
   "execution_count": 1,
   "metadata": {},
   "outputs": [
    {
     "data": {
      "text/plain": [
       "'https://devnet.solana.com'"
      ]
     },
     "execution_count": 1,
     "metadata": {},
     "output_type": "execute_result"
    }
   ],
   "source": [
    "from solanarpc.httprpc import HTTPClient\n",
    "\n",
    "solana_client = HTTPClient(\"https://devnet.solana.com\")\n",
    "solana_client.endpoint_uri"
   ]
  },
  {
   "cell_type": "code",
   "execution_count": 2,
   "metadata": {},
   "outputs": [
    {
     "data": {
      "text/plain": [
       "{'jsonrpc': '2.0',\n",
       " 'result': '5EZhiEZkxKw2yCFJWcecSHS43gb2Dj8e5Szi4fSrHs1qoe52gw9WpRoQcTewd3gytcSGcrvGB3EHZC86DCuPLEtA',\n",
       " 'id': 1}"
      ]
     },
     "execution_count": 2,
     "metadata": {},
     "output_type": "execute_result"
    }
   ],
   "source": [
    "from solanaweb3.account import Account\n",
    "\n",
    "acc1 = Account(bytes([8] * 32))\n",
    "tx = solana_client.request_airdrop(acc1.public_key(), 1000000)\n",
    "tx"
   ]
  },
  {
   "cell_type": "code",
   "execution_count": 3,
   "metadata": {},
   "outputs": [
    {
     "data": {
      "text/plain": [
       "{'jsonrpc': '2.0',\n",
       " 'result': {'meta': {'err': None,\n",
       "   'fee': 5000,\n",
       "   'postBalances': [498505611292505270, 1000001001014940, 1],\n",
       "   'preBalances': [498505611293510270, 1000001000014940, 1],\n",
       "   'status': {'Ok': None}},\n",
       "  'slot': 1471413,\n",
       "  'transaction': {'message': {'accountKeys': ['9B5XszUGdMaxCZ7uSQhPzdks5ZQSmWxrmzCSvtJ6Ns6g',\n",
       "     '2KW2XRd9kwqet15Aha2oK3tYvd3nWbTFH1MBiRAv1BE1',\n",
       "     '11111111111111111111111111111111'],\n",
       "    'header': {'numReadonlySignedAccounts': 0,\n",
       "     'numReadonlyUnsignedAccounts': 1,\n",
       "     'numRequiredSignatures': 1},\n",
       "    'instructions': [{'accounts': [0, 1],\n",
       "      'data': '3Bxs4Bc3VYuGVB19',\n",
       "      'programIdIndex': 2}],\n",
       "    'recentBlockhash': 'D3r3sxWLEg418DUvHKms1sXZiJv4WzoW5F8Zuq2vaUys'},\n",
       "   'signatures': ['5EZhiEZkxKw2yCFJWcecSHS43gb2Dj8e5Szi4fSrHs1qoe52gw9WpRoQcTewd3gytcSGcrvGB3EHZC86DCuPLEtA']}},\n",
       " 'id': 2}"
      ]
     },
     "execution_count": 3,
     "metadata": {},
     "output_type": "execute_result"
    }
   ],
   "source": [
    "solana_client.get_confirmed_transaction(tx[\"result\"])"
   ]
  },
  {
   "cell_type": "code",
   "execution_count": 4,
   "metadata": {},
   "outputs": [
    {
     "data": {
      "text/plain": [
       "{'jsonrpc': '2.0',\n",
       " 'result': {'context': {'slot': 1471443}, 'value': 1000001001014940},\n",
       " 'id': 3}"
      ]
     },
     "execution_count": 4,
     "metadata": {},
     "output_type": "execute_result"
    }
   ],
   "source": [
    "solana_client.get_balance(acc1.public_key())"
   ]
  },
  {
   "cell_type": "code",
   "execution_count": 5,
   "metadata": {},
   "outputs": [
    {
     "data": {
      "text/plain": [
       "{'jsonrpc': '2.0',\n",
       " 'result': {'context': {'slot': 1471446},\n",
       "  'value': {'blockhash': '2UqFuefrZGvrufh3xWUc4FAu3BpJe9QtevfKHWgCrSFP',\n",
       "   'feeCalculator': {'lamportsPerSignature': 5000}}},\n",
       " 'id': 4}"
      ]
     },
     "execution_count": 5,
     "metadata": {},
     "output_type": "execute_result"
    }
   ],
   "source": [
    "recent_blockhash = solana_client.get_recent_blockhash()\n",
    "recent_blockhash"
   ]
  },
  {
   "cell_type": "code",
   "execution_count": 6,
   "metadata": {},
   "outputs": [
    {
     "data": {
      "text/plain": [
       "{'jsonrpc': '2.0',\n",
       " 'result': 'VJAx7s5iWn5eJ9yaB7cqj8m9LLfRdty27KTBwmUNirbTAwujhVND15SKfQwsRLyY74wfGWfsQRebxvsPtjji8zL',\n",
       " 'id': 5}"
      ]
     },
     "execution_count": 6,
     "metadata": {},
     "output_type": "execute_result"
    }
   ],
   "source": [
    "from base58 import b58encode\n",
    "from solanaweb3.blockhash import Blockhash\n",
    "from solanaweb3.system_program import SystemProgram, TransferParams\n",
    "from solanaweb3.transaction import Transaction\n",
    "from solanaweb3.publickey import PublicKey\n",
    "\n",
    "acc2_pubkey = PublicKey(\"83astBRguLMdt2h5U1Tpdq5tjFoJ6noeGwaY3mDLVcri\")\n",
    "tx = SystemProgram.transfer(\n",
    "    TransferParams(from_pubkey=acc1.public_key(), to_pubkey=acc2_pubkey, lamports=1000000))\n",
    "tx.recent_blockhash = Blockhash(recent_blockhash[\"result\"][\"value\"][\"blockhash\"])\n",
    "tx.sign(acc1)\n",
    "tx_sig = solana_client.send_raw_transaction(tx)\n",
    "tx_sig"
   ]
  },
  {
   "cell_type": "code",
   "execution_count": 7,
   "metadata": {},
   "outputs": [
    {
     "data": {
      "text/plain": [
       "{'jsonrpc': '2.0',\n",
       " 'result': {'meta': {'err': None,\n",
       "   'fee': 5000,\n",
       "   'postBalances': [1000001000009940, 2000000, 1],\n",
       "   'preBalances': [1000001001014940, 1000000, 1],\n",
       "   'status': {'Ok': None}},\n",
       "  'slot': 1471484,\n",
       "  'transaction': {'message': {'accountKeys': ['2KW2XRd9kwqet15Aha2oK3tYvd3nWbTFH1MBiRAv1BE1',\n",
       "     '83astBRguLMdt2h5U1Tpdq5tjFoJ6noeGwaY3mDLVcri',\n",
       "     '11111111111111111111111111111111'],\n",
       "    'header': {'numReadonlySignedAccounts': 0,\n",
       "     'numReadonlyUnsignedAccounts': 1,\n",
       "     'numRequiredSignatures': 1},\n",
       "    'instructions': [{'accounts': [0, 1],\n",
       "      'data': '3Bxs4Bc3VYuGVB19',\n",
       "      'programIdIndex': 2}],\n",
       "    'recentBlockhash': '2UqFuefrZGvrufh3xWUc4FAu3BpJe9QtevfKHWgCrSFP'},\n",
       "   'signatures': ['VJAx7s5iWn5eJ9yaB7cqj8m9LLfRdty27KTBwmUNirbTAwujhVND15SKfQwsRLyY74wfGWfsQRebxvsPtjji8zL']}},\n",
       " 'id': 6}"
      ]
     },
     "execution_count": 7,
     "metadata": {},
     "output_type": "execute_result"
    }
   ],
   "source": [
    "solana_client.get_confirmed_transaction(tx_sig[\"result\"])"
   ]
  },
  {
   "cell_type": "code",
   "execution_count": 8,
   "metadata": {},
   "outputs": [
    {
     "data": {
      "text/plain": [
       "{'jsonrpc': '2.0',\n",
       " 'result': {'context': {'slot': 1471568}, 'value': 2000000},\n",
       " 'id': 7}"
      ]
     },
     "execution_count": 8,
     "metadata": {},
     "output_type": "execute_result"
    }
   ],
   "source": [
    "solana_client.get_balance(acc2_pubkey)"
   ]
  },
  {
   "cell_type": "code",
   "execution_count": 10,
   "metadata": {},
   "outputs": [
    {
     "data": {
      "text/plain": [
       "{'jsonrpc': '2.0',\n",
       " 'result': 'HXZq5mgSsXEUYFcMUjhCBKF21KMotYYrbGoUiiiwHo8Dumi9RFLHx8HwPrVMGWt7gYd48L48fQuAH3eEk27C7Av',\n",
       " 'id': 11}"
      ]
     },
     "execution_count": 10,
     "metadata": {},
     "output_type": "execute_result"
    }
   ],
   "source": [
    "tx = SystemProgram.transfer(\n",
    "    TransferParams(from_pubkey=acc1.public_key(), to_pubkey=acc2_pubkey, lamports=1000000))\n",
    "tx_sig = solana_client.send_transaction(tx, acc1)\n",
    "tx_sig"
   ]
  },
  {
   "cell_type": "code",
   "execution_count": 11,
   "metadata": {},
   "outputs": [
    {
     "data": {
      "text/plain": [
       "{'jsonrpc': '2.0', 'result': None, 'id': 12}"
      ]
     },
     "execution_count": 11,
     "metadata": {},
     "output_type": "execute_result"
    }
   ],
   "source": [
    "solana_client.get_confirmed_transaction(tx_sig[\"result\"])"
   ]
  },
  {
   "cell_type": "code",
   "execution_count": null,
   "metadata": {},
   "outputs": [],
   "source": []
  }
 ],
 "metadata": {
  "kernelspec": {
   "display_name": "Python 3",
   "language": "python",
   "name": "python3"
  },
  "language_info": {
   "codemirror_mode": {
    "name": "ipython",
    "version": 3
   },
   "file_extension": ".py",
   "mimetype": "text/x-python",
   "name": "python",
   "nbconvert_exporter": "python",
   "pygments_lexer": "ipython3",
   "version": "3.7.3"
  }
 },
 "nbformat": 4,
 "nbformat_minor": 4
}
