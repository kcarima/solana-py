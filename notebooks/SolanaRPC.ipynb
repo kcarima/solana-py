{
 "cells": [
  {
   "cell_type": "code",
   "execution_count": 1,
   "metadata": {},
   "outputs": [
    {
     "data": {
      "text/plain": [
       "'https://devnet.solana.com'"
      ]
     },
     "execution_count": 1,
     "metadata": {},
     "output_type": "execute_result"
    }
   ],
   "source": [
    "from solanarpc.httprpc import HTTPClient\n",
    "\n",
    "solana_client = HTTPClient(\"https://devnet.solana.com\")\n",
    "solana_client.endpoint_uri"
   ]
  },
  {
   "cell_type": "code",
   "execution_count": 19,
   "metadata": {},
   "outputs": [
    {
     "data": {
      "text/plain": [
       "{'jsonrpc': '2.0',\n",
       " 'result': '4N59uNgn262K34o6T1tJzMs7Cx9VmuFkNqDHdYcLbCnkijUgAptY7Nfxy6znxyWMJgmwFkhk5H3QEu7W2xKAMww6',\n",
       " 'id': 18}"
      ]
     },
     "execution_count": 19,
     "metadata": {},
     "output_type": "execute_result"
    }
   ],
   "source": [
    "from base58 import b58decode\n",
    "from solanaweb3.account import Account\n",
    "from solanaweb3.message import Message\n",
    "\n",
    "acc1 = Account(bytes([8] * 32))\n",
    "tx = solana_client.request_airdrop(str(acc1.public_key()), 1000000)\n",
    "tx"
   ]
  },
  {
   "cell_type": "code",
   "execution_count": 20,
   "metadata": {},
   "outputs": [
    {
     "data": {
      "text/plain": [
       "{'jsonrpc': '2.0',\n",
       " 'result': {'meta': {'err': None,\n",
       "   'fee': 5000,\n",
       "   'postBalances': [498508096696858670, 1000000001019940, 1],\n",
       "   'preBalances': [498508096697863670, 1000000000019940, 1],\n",
       "   'status': {'Ok': None}},\n",
       "  'slot': 1463049,\n",
       "  'transaction': {'message': {'accountKeys': ['9B5XszUGdMaxCZ7uSQhPzdks5ZQSmWxrmzCSvtJ6Ns6g',\n",
       "     '2KW2XRd9kwqet15Aha2oK3tYvd3nWbTFH1MBiRAv1BE1',\n",
       "     '11111111111111111111111111111111'],\n",
       "    'header': {'numReadonlySignedAccounts': 0,\n",
       "     'numReadonlyUnsignedAccounts': 1,\n",
       "     'numRequiredSignatures': 1},\n",
       "    'instructions': [{'accounts': [0, 1],\n",
       "      'data': '3Bxs4Bc3VYuGVB19',\n",
       "      'programIdIndex': 2}],\n",
       "    'recentBlockhash': '87LwNFaARUjioVAURfjpeizHNbthw7r4i2SJ3gkU8H3K'},\n",
       "   'signatures': ['4N59uNgn262K34o6T1tJzMs7Cx9VmuFkNqDHdYcLbCnkijUgAptY7Nfxy6znxyWMJgmwFkhk5H3QEu7W2xKAMww6']}},\n",
       " 'id': 19}"
      ]
     },
     "execution_count": 20,
     "metadata": {},
     "output_type": "execute_result"
    }
   ],
   "source": [
    "solana_client.get_confirmed_transaction(tx[\"result\"])"
   ]
  },
  {
   "cell_type": "code",
   "execution_count": 21,
   "metadata": {},
   "outputs": [
    {
     "data": {
      "text/plain": [
       "{'jsonrpc': '2.0',\n",
       " 'result': {'context': {'slot': 1463073}, 'value': 1000001001019940},\n",
       " 'id': 20}"
      ]
     },
     "execution_count": 21,
     "metadata": {},
     "output_type": "execute_result"
    }
   ],
   "source": [
    "solana_client.get_balance(str(acc1.public_key()))"
   ]
  },
  {
   "cell_type": "code",
   "execution_count": 7,
   "metadata": {},
   "outputs": [
    {
     "data": {
      "text/plain": [
       "{'jsonrpc': '2.0',\n",
       " 'result': {'context': {'slot': 1462972},\n",
       "  'value': {'blockhash': '4Qg8eeHg2rb9KPqLQgxEWvWaMXn9ALZn8nhSYoYBtufz',\n",
       "   'feeCalculator': {'lamportsPerSignature': 5000}}},\n",
       " 'id': 6}"
      ]
     },
     "execution_count": 7,
     "metadata": {},
     "output_type": "execute_result"
    }
   ],
   "source": [
    "recent_blockhash = solana_client.get_recent_blockhash()\n",
    "recent_blockhash"
   ]
  },
  {
   "cell_type": "code",
   "execution_count": 22,
   "metadata": {},
   "outputs": [
    {
     "name": "stdout",
     "output_type": "stream",
     "text": [
      "[TransactionInstruction(keys=[AccountMeta(pubkey=2KW2XRd9kwqet15Aha2oK3tYvd3nWbTFH1MBiRAv1BE1, is_signer=True, is_writable=True), AccountMeta(pubkey=83astBRguLMdt2h5U1Tpdq5tjFoJ6noeGwaY3mDLVcri, is_signer=False, is_writable=True)], program_id=11111111111111111111111111111111, data=b'\\x02\\x00\\x00\\x00@B\\x0f\\x00\\x00\\x00\\x00\\x00')]\n"
     ]
    },
    {
     "data": {
      "text/plain": [
       "{'jsonrpc': '2.0',\n",
       " 'result': '4mVzbNYhaaLgtA5oSr4kGw7sNz3yudB8CkLH8S2kmt8YhVKdy7d5cEKMc5nMepgCyZfy8VvEcNxYp3Wg9VPvTEPS',\n",
       " 'id': 21}"
      ]
     },
     "execution_count": 22,
     "metadata": {},
     "output_type": "execute_result"
    }
   ],
   "source": [
    "from base58 import b58encode\n",
    "from solanaweb3.blockhash import Blockhash\n",
    "from solanaweb3.system_program import SystemProgram, TransferParams\n",
    "from solanaweb3.transaction import Transaction\n",
    "from solanaweb3.publickey import PublicKey\n",
    "\n",
    "acc2_pubkey = PublicKey(\"83astBRguLMdt2h5U1Tpdq5tjFoJ6noeGwaY3mDLVcri\")\n",
    "transfer = SystemProgram.transfer(\n",
    "    TransferParams(from_pubkey=acc1.public_key(), to_pubkey=acc2_pubkey, lamports=1000000))\n",
    "tx = Transaction(\n",
    "    recent_blockhash=Blockhash(recent_blockhash[\"result\"][\"value\"][\"blockhash\"])).add(transfer)\n",
    "print(tx.instructions)\n",
    "tx.sign(acc1)\n",
    "tx = solana_client.send_transaction(b58encode(tx.serialize()).decode('utf-8'))\n",
    "tx"
   ]
  },
  {
   "cell_type": "code",
   "execution_count": 27,
   "metadata": {},
   "outputs": [
    {
     "data": {
      "text/plain": [
       "{'jsonrpc': '2.0',\n",
       " 'result': {'meta': {'err': None,\n",
       "   'fee': 5000,\n",
       "   'postBalances': [1000001000014940, 1000000, 1],\n",
       "   'preBalances': [1000001001019940, 0, 1],\n",
       "   'status': {'Ok': None}},\n",
       "  'slot': 1463119,\n",
       "  'transaction': {'message': {'accountKeys': ['2KW2XRd9kwqet15Aha2oK3tYvd3nWbTFH1MBiRAv1BE1',\n",
       "     '83astBRguLMdt2h5U1Tpdq5tjFoJ6noeGwaY3mDLVcri',\n",
       "     '11111111111111111111111111111111'],\n",
       "    'header': {'numReadonlySignedAccounts': 0,\n",
       "     'numReadonlyUnsignedAccounts': 1,\n",
       "     'numRequiredSignatures': 1},\n",
       "    'instructions': [{'accounts': [0, 1],\n",
       "      'data': '3Bxs4Bc3VYuGVB19',\n",
       "      'programIdIndex': 2}],\n",
       "    'recentBlockhash': '4Qg8eeHg2rb9KPqLQgxEWvWaMXn9ALZn8nhSYoYBtufz'},\n",
       "   'signatures': ['4mVzbNYhaaLgtA5oSr4kGw7sNz3yudB8CkLH8S2kmt8YhVKdy7d5cEKMc5nMepgCyZfy8VvEcNxYp3Wg9VPvTEPS']}},\n",
       " 'id': 26}"
      ]
     },
     "execution_count": 27,
     "metadata": {},
     "output_type": "execute_result"
    }
   ],
   "source": [
    "solana_client.get_confirmed_transaction(tx[\"result\"])"
   ]
  },
  {
   "cell_type": "code",
   "execution_count": 28,
   "metadata": {},
   "outputs": [
    {
     "data": {
      "text/plain": [
       "{'jsonrpc': '2.0',\n",
       " 'result': {'context': {'slot': 1463137}, 'value': 1000000},\n",
       " 'id': 27}"
      ]
     },
     "execution_count": 28,
     "metadata": {},
     "output_type": "execute_result"
    }
   ],
   "source": [
    "solana_client.get_balance(str(acc2_pubkey))"
   ]
  },
  {
   "cell_type": "code",
   "execution_count": null,
   "metadata": {},
   "outputs": [],
   "source": []
  }
 ],
 "metadata": {
  "kernelspec": {
   "display_name": "Python 3",
   "language": "python",
   "name": "python3"
  },
  "language_info": {
   "codemirror_mode": {
    "name": "ipython",
    "version": 3
   },
   "file_extension": ".py",
   "mimetype": "text/x-python",
   "name": "python",
   "nbconvert_exporter": "python",
   "pygments_lexer": "ipython3",
   "version": "3.7.3"
  }
 },
 "nbformat": 4,
 "nbformat_minor": 4
}
